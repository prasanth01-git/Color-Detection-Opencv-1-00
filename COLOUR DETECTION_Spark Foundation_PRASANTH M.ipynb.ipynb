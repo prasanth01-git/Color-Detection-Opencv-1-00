{
 "cells": [
  {
   "cell_type": "code",
   "execution_count": 1,
   "id": "cc6e1f92",
   "metadata": {},
   "outputs": [],
   "source": [
    "import cv2 as cv\n",
    "import pandas as pd\n",
    "\n",
    "img = \"flower.jpg\"\n",
    "csv = 'colors.csv'\n",
    "index = [\"color\",\"color_name\",\"hex\",\"R\",\"G\",\"B\"]\n",
    "df = pd.read_csv(csv,names=index,header=None)\n",
    "image=cv.imread(img)\n",
    "clicked = False\n",
    "r=g=b=xpos=ypos=0\n",
    "def get(R,G,B):\n",
    "    min=100000000\n",
    "    for i in range(len(df)):\n",
    "        m=abs(R-int(df.loc[i,\"R\"]))+abs(G-int(df.loc[i,\"G\"]))+abs(B-int(df.loc[i,\"B\"]))\n",
    "        if(m<=min):\n",
    "            min=r\n",
    "            name=df.loc[i,\"color_name\"]\n",
    "    return name\n",
    "def draw(event,x,y,flags,params):\n",
    "    if event==cv.EVENT_LBUTTONDBLCLK:\n",
    "        global b,g,r,xpos,ypos,clicked\n",
    "        clicked = True\n",
    "        xpos=x\n",
    "        ypos=y\n",
    "        b,g,r=image[y,x]\n",
    "        b=int(b)\n",
    "        g=int(g)\n",
    "        r=int(r)\n",
    "cv.namedWindow(\"output\")\n",
    "cv.setMouseCallback(\"output\",draw)\n",
    "while True:\n",
    "    cv.imshow(\"output\",image)\n",
    "    if clicked:\n",
    "        cv.rectangle(image,(15,15),(650,60),(b,g,r),-1)\n",
    "        text=get (r,g,b)+' R='+str(r)+'G='+str(g)+'B='+str(b)\n",
    "        cv.putText(image,text,(30,30),2,0.8,(255,255,255),2,cv.LINE_AA)\n",
    "        if r+g+b>=600:\n",
    "            cv.putText(image,text,(40,40),2,0.8,(0,0,0),2,cv.LINE_AA)\n",
    "    \n",
    "    if cv.waitKey(20) & 0xFF == ord(\"q\"):\n",
    "        break\n",
    "cv.destroyAllWindows()\n"
   ]
  },
  {
   "cell_type": "code",
   "execution_count": null,
   "id": "e9cf5157",
   "metadata": {},
   "outputs": [],
   "source": []
  },
  {
   "cell_type": "code",
   "execution_count": null,
   "id": "99e8b18d",
   "metadata": {},
   "outputs": [],
   "source": []
  },
  {
   "cell_type": "code",
   "execution_count": null,
   "id": "bf7a67c5",
   "metadata": {},
   "outputs": [],
   "source": []
  }
 ],
 "metadata": {
  "kernelspec": {
   "display_name": "Python 3",
   "language": "python",
   "name": "python3"
  },
  "language_info": {
   "codemirror_mode": {
    "name": "ipython",
    "version": 3
   },
   "file_extension": ".py",
   "mimetype": "text/x-python",
   "name": "python",
   "nbconvert_exporter": "python",
   "pygments_lexer": "ipython3",
   "version": "3.6.4"
  }
 },
 "nbformat": 4,
 "nbformat_minor": 5
}
